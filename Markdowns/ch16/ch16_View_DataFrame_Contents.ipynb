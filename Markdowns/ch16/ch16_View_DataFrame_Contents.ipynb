{
 "cells": [
  {
   "cell_type": "markdown",
   "id": "3b7b1d45",
   "metadata": {},
   "source": [
    "### Pandas,os,glob를 import를 해줍니다\n",
    "\n",
    "- Pandas : Pandas라이브러리 사용을 위해\n",
    "- glob : 현재 디렉토리에 있는 특정 파일들 목록을 추출하기 위해\n",
    "- os : 현재 디렉토리 값을 반환받기 위해"
   ]
  },
  {
   "cell_type": "code",
   "execution_count": 1,
   "id": "753e27b4",
   "metadata": {},
   "outputs": [],
   "source": [
    "import pandas as pd\n",
    "import glob\n",
    "import os"
   ]
  },
  {
   "cell_type": "markdown",
   "id": "0406de3d",
   "metadata": {},
   "source": [
    "### CSV파일 확장자만 있는 파일만 가져와 봅시다.\n",
    "\n",
    "- 특정 확장자만 있는 파일 목록을 가져오기 위해서는 glob.glob()를 사용해 줄 것입니다. glob.glob()는 매개변수로 확장자 포맷을 지정한 디렉토리 패턴을 받을 수 있습니다.\n",
    "\n",
    "\n",
    "- 모든 .csv확장자를 지정하기 위해서는 (디렉토리)/\\*.csv 형태로 디렉토리를 넣어주어야합니다. '*'은 '모든' 이라는 의미를 가지는 기호입니다\n",
    "\n",
    "- os.getcwd()를 사용하면 현재 디렉토리의 값을 받을 수 있습니다"
   ]
  },
  {
   "cell_type": "code",
   "execution_count": 2,
   "id": "fa529e0f",
   "metadata": {},
   "outputs": [],
   "source": [
    "csv_list = glob.glob(f\"{os.getcwd()}/*.csv\")"
   ]
  },
  {
   "cell_type": "code",
   "execution_count": 3,
   "id": "e678ceab",
   "metadata": {},
   "outputs": [
    {
     "data": {
      "text/plain": [
       "['/Users/hoplin/100_PythonProblem_for_working_level_staff/ch16/주택매매가격지수.csv',\n",
       " '/Users/hoplin/100_PythonProblem_for_working_level_staff/ch16/GDP디플레이터.csv',\n",
       " '/Users/hoplin/100_PythonProblem_for_working_level_staff/ch16/금융계정.csv']"
      ]
     },
     "execution_count": 3,
     "metadata": {},
     "output_type": "execute_result"
    }
   ],
   "source": [
    "csv_list"
   ]
  },
  {
   "cell_type": "markdown",
   "id": "24d22546",
   "metadata": {},
   "source": [
    "### CSV파일 읽어보기\n",
    "\n",
    "- CSV파일을 읽기 위해서는 read_csv()라는 메소드를 사용해서 읽어와야 합니다. \n",
    "\n",
    "- 읽어올 CSV파일에는 헤더가 있으므로, header = None옵션은 제외하도록 하겠습니다\n",
    "\n",
    "### 읽어온 CSV부분적으로 읽어오기\n",
    "\n",
    "- .head() : default는 위에서 5개의 열을 읽어옵니다. 만약 읽어오고싶은 열의 개수가 정해져있다면, 매개변수로 정수값을 넣어주면 됩니다.\n",
    "\n",
    "- .tail() : default는 아래에서 5개의 열을 읽어옵니다. 만약 읽어오고 싶은 열의 개수가 정해져있다면, 매개변수로 정수값을 넣어주면 됩니다."
   ]
  },
  {
   "cell_type": "code",
   "execution_count": 4,
   "id": "505f8ca5",
   "metadata": {},
   "outputs": [
    {
     "name": "stdout",
     "output_type": "stream",
     "text": [
      "====================\n",
      "'주택매매가격지수.csv'의 정보\n",
      "       시점    지표  전기대비증감률\n",
      "0  2014.0  84.8      1.8\n",
      "1  2015.0  87.7      3.4\n",
      "2  2016.0  88.4      0.8\n",
      "3  2017.0  89.7      1.5\n",
      "4  2018.0  90.6      1.0\n",
      "       시점    지표  전기대비증감률\n",
      "0  2014.0  84.8      1.8\n",
      "1  2015.0  87.7      3.4\n",
      "2  2016.0  88.4      0.8\n",
      "         시점     지표  전기대비증감률\n",
      "15  2021.70  100.9      0.9\n",
      "16  2021.80  101.8      0.9\n",
      "17  2021.90  102.8      1.0\n",
      "18  2021.10  103.7      0.9\n",
      "19  2021.11  104.3      0.6\n",
      "         시점     지표  전기대비증감률\n",
      "17  2021.90  102.8      1.0\n",
      "18  2021.10  103.7      0.9\n",
      "19  2021.11  104.3      0.6\n",
      "====================\n",
      "====================\n",
      "'GDP디플레이터.csv'의 정보\n",
      "     시점       지표  전년동기대비증감률\n",
      "0  2014   96.913        0.9\n",
      "1  2015  100.000        3.2\n",
      "2  2016  101.986        2.0\n",
      "3  2017  104.253        2.2\n",
      "4  2018  104.756        0.5\n",
      "     시점       지표  전년동기대비증감률\n",
      "0  2014   96.913        0.9\n",
      "1  2015  100.000        3.2\n",
      "2  2016  101.986        2.0\n",
      "          시점       지표  전년동기대비증감률\n",
      "15  2020.3/4  107.449        2.0\n",
      "16  2020.4/4  104.535        2.5\n",
      "17  2021.1/4  106.213        2.6\n",
      "18  2021.2/4  107.083        1.6\n",
      "19  2021.3/4  109.932        2.3\n",
      "          시점       지표  전년동기대비증감률\n",
      "17  2021.1/4  106.213        2.6\n",
      "18  2021.2/4  107.083        1.6\n",
      "19  2021.3/4  109.932        2.3\n",
      "====================\n",
      "====================\n",
      "'금융계정.csv'의 정보\n",
      "       시점         지표     전기대비증감\n",
      "0  2014.0   86,507.8    7,968.5\n",
      "1  2015.0  102,957.2   16,449.4\n",
      "2  2016.0   99,925.3   -3,031.9\n",
      "3  2017.0   84,516.4  -15,408.9\n",
      "4  2018.0   76,473.4   -8,043.0\n",
      "       시점         지표    전기대비증감\n",
      "0  2014.0   86,507.8   7,968.5\n",
      "1  2015.0  102,957.2  16,449.4\n",
      "2  2016.0   99,925.3  -3,031.9\n",
      "        시점       지표    전기대비증감\n",
      "15  2021.6  4,287.9  -4,087.7\n",
      "16  2021.7  6,558.2   2,270.3\n",
      "17  2021.8  5,804.1    -754.1\n",
      "18  2021.9  9,776.6   3,972.5\n",
      "19  2021.1  7,011.8  -2,764.8\n",
      "        시점       지표    전기대비증감\n",
      "17  2021.8  5,804.1    -754.1\n",
      "18  2021.9  9,776.6   3,972.5\n",
      "19  2021.1  7,011.8  -2,764.8\n",
      "====================\n"
     ]
    }
   ],
   "source": [
    "for i in csv_list:\n",
    "    print(\"=\" * 20)\n",
    "    print(f\"'{i.split('/')[-1]}'의 정보\")\n",
    "    df = pd.read_csv(i)\n",
    "    print(df.head())\n",
    "    print(df.head(3))\n",
    "    print(df.tail())\n",
    "    print(df.tail(3))\n",
    "    print(\"=\" * 20)"
   ]
  },
  {
   "cell_type": "markdown",
   "id": "6e56a125",
   "metadata": {},
   "source": [
    "### 데이터 프레임의 요약정보 가져오기\n",
    "\n",
    "- .info() : 데이터 프레임의 자료형, 행 인덱스의 종류와 개수, 열의 개수와 자료형, 메모리 사용량 등의 정보를 확인할 수 있다.\n",
    "\n",
    "- .describe() : 데이터프레임의 통계정보를 요약해 보여준다. 각 열의 데이터 개수와 평균값, 표준편차, 최소값\\~최대값의 사분위값(25%,50%,75%,100%범위에 해당하는 값 의미. 25%부터 차례로 1사분위~4사분위라고 부른다)"
   ]
  },
  {
   "cell_type": "code",
   "execution_count": 5,
   "id": "700a5976",
   "metadata": {},
   "outputs": [
    {
     "name": "stdout",
     "output_type": "stream",
     "text": [
      "====================\n",
      "'주택매매가격지수.csv'의 정보\n",
      "\n",
      "====================\n",
      "====================\n",
      "'GDP디플레이터.csv'의 정보\n",
      "\n",
      "====================\n",
      "====================\n",
      "'금융계정.csv'의 정보\n",
      "\n",
      "====================\n"
     ]
    }
   ],
   "source": [
    "for i in csv_list:\n",
    "    df = pd.read_csv(i)\n",
    "    print(\"=\" * 20)\n",
    "    print(f\"'{i.split('/')[-1]}'의 정보\")\n",
    "    print(df.info())\n",
    "    print(df.describe())\n",
    "    print(\"=\" * 20)"
   ]
  }
 ],
 "metadata": {
  "kernelspec": {
   "display_name": "Python 3 (ipykernel)",
   "language": "python",
   "name": "python3"
  },
  "language_info": {
   "codemirror_mode": {
    "name": "ipython",
    "version": 3
   },
   "file_extension": ".py",
   "mimetype": "text/x-python",
   "name": "python",
   "nbconvert_exporter": "python",
   "pygments_lexer": "ipython3",
   "version": "3.9.7"
  }
 },
 "nbformat": 4,
 "nbformat_minor": 5
}
