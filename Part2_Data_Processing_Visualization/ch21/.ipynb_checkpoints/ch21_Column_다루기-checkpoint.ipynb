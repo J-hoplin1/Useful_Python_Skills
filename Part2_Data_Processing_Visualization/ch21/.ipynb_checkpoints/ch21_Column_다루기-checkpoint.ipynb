{
 "cells": [
  {
   "cell_type": "markdown",
   "id": "58de41b3",
   "metadata": {},
   "source": [
    "# Ch 21 : 데이터 프레임 Column(열) 다루기"
   ]
  },
  {
   "cell_type": "markdown",
   "id": "6694fe6c",
   "metadata": {},
   "source": [
    "### DataFrame 만들기\n",
    "\n",
    "- Pandas 라이브러리를 import 합니다\n",
    "- 임의의 데이터 프레임 하나를 만듭니다.\n",
    "\n",
    "- pandas DataFrame Document : https://pandas.pydata.org/docs/reference/api/pandas.DataFrame.html"
   ]
  },
  {
   "cell_type": "code",
   "execution_count": 1,
   "id": "78522761",
   "metadata": {},
   "outputs": [],
   "source": [
    "import pandas as pd"
   ]
  },
  {
   "cell_type": "code",
   "execution_count": 2,
   "id": "c7eba526",
   "metadata": {},
   "outputs": [],
   "source": [
    "data = {\n",
    "    \"c0\" : [1,2,3],\n",
    "    \"c1\" : [4,5,6]\n",
    "}"
   ]
  },
  {
   "cell_type": "code",
   "execution_count": null,
   "id": "931d8622",
   "metadata": {},
   "outputs": [],
   "source": [
    "df = pd.DataFrame(data,index=['r0','r1','r2'])"
   ]
  }
 ],
 "metadata": {
  "kernelspec": {
   "display_name": "Python 3 (ipykernel)",
   "language": "python",
   "name": "python3"
  },
  "language_info": {
   "codemirror_mode": {
    "name": "ipython",
    "version": 3
   },
   "file_extension": ".py",
   "mimetype": "text/x-python",
   "name": "python",
   "nbconvert_exporter": "python",
   "pygments_lexer": "ipython3",
   "version": "3.9.12"
  }
 },
 "nbformat": 4,
 "nbformat_minor": 5
}
