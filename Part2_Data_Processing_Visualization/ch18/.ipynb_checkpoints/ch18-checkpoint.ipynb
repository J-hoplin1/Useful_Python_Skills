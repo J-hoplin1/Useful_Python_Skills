{
 "cells": [
  {
   "cell_type": "markdown",
   "id": "a4f5b8aa",
   "metadata": {},
   "source": [
    "# Ch 18 : 데이터프레임의 내용 살펴보기"
   ]
  },
  {
   "cell_type": "markdown",
   "id": "c8e863ea",
   "metadata": {},
   "source": [
    "### Pandas를 import 해줍니다\n",
    "\n",
    "- 최소 두개의 csv파일을 폴더에 넣어줍니다\n",
    "- 랜덤으로 csv파일을 하나 읽어온 후 pandas DataFrame으로 불러와 봅시다\n",
    "- 추가 과제\n",
    "    - 현재 디렉토리에서 csv 리스트만 읽어서 출력해봅니다\n",
    "    - MutableSequence 자료형을 print함수를 이용해서 출력합니다. 단, 한줄로 출력해야하며, 개행문자 (\\n)으로 구분해 주어야합니다."
   ]
  },
  {
   "cell_type": "code",
   "execution_count": 6,
   "id": "cd62ae5a",
   "metadata": {},
   "outputs": [],
   "source": [
    "import pandas as pd\n",
    "import os, random"
   ]
  },
  {
   "cell_type": "code",
   "execution_count": 2,
   "id": "fa5285e2",
   "metadata": {},
   "outputs": [],
   "source": [
    "# 현재 디렉토리에서 csv리스트만 읽어서 출력한다\n",
    "csv_list = list(filter(lambda x:x.endswith('.csv'),os.listdir()))"
   ]
  },
  {
   "cell_type": "code",
   "execution_count": 5,
   "id": "258a429b",
   "metadata": {},
   "outputs": [
    {
     "name": "stdout",
     "output_type": "stream",
     "text": [
      "주택매매가격지수.csv\n",
      "금융계정.csv\n"
     ]
    }
   ],
   "source": [
    "print(*csv_list,sep='\\n')"
   ]
  },
  {
   "cell_type": "code",
   "execution_count": 7,
   "id": "160de79d",
   "metadata": {},
   "outputs": [
    {
     "ename": "ValueError",
     "evalue": "DataFrame constructor not properly called!",
     "output_type": "error",
     "traceback": [
      "\u001b[0;31m---------------------------------------------------------------------------\u001b[0m",
      "\u001b[0;31mValueError\u001b[0m                                Traceback (most recent call last)",
      "Input \u001b[0;32mIn [7]\u001b[0m, in \u001b[0;36m<cell line: 7>\u001b[0;34m()\u001b[0m\n\u001b[1;32m      4\u001b[0m random_csv_name \u001b[38;5;241m=\u001b[39m csv_list[random\u001b[38;5;241m.\u001b[39mrandint(\u001b[38;5;241m0\u001b[39m,\u001b[38;5;28mlen\u001b[39m(csv_list)\u001b[38;5;241m-\u001b[39m\u001b[38;5;241m1\u001b[39m)]\n\u001b[1;32m      6\u001b[0m \u001b[38;5;66;03m#랜덤으로 뽑은 csv파일을 DataFrame으로 변환해 봅니다\u001b[39;00m\n\u001b[0;32m----> 7\u001b[0m df \u001b[38;5;241m=\u001b[39m \u001b[43mpd\u001b[49m\u001b[38;5;241;43m.\u001b[39;49m\u001b[43mDataFrame\u001b[49m\u001b[43m(\u001b[49m\u001b[43mrandom_csv_name\u001b[49m\u001b[43m)\u001b[49m\n",
      "File \u001b[0;32m~/opt/anaconda3/lib/python3.9/site-packages/pandas/core/frame.py:756\u001b[0m, in \u001b[0;36mDataFrame.__init__\u001b[0;34m(self, data, index, columns, dtype, copy)\u001b[0m\n\u001b[1;32m    753\u001b[0m \u001b[38;5;66;03m# For data is scalar\u001b[39;00m\n\u001b[1;32m    754\u001b[0m \u001b[38;5;28;01melse\u001b[39;00m:\n\u001b[1;32m    755\u001b[0m     \u001b[38;5;28;01mif\u001b[39;00m index \u001b[38;5;129;01mis\u001b[39;00m \u001b[38;5;28;01mNone\u001b[39;00m \u001b[38;5;129;01mor\u001b[39;00m columns \u001b[38;5;129;01mis\u001b[39;00m \u001b[38;5;28;01mNone\u001b[39;00m:\n\u001b[0;32m--> 756\u001b[0m         \u001b[38;5;28;01mraise\u001b[39;00m \u001b[38;5;167;01mValueError\u001b[39;00m(\u001b[38;5;124m\"\u001b[39m\u001b[38;5;124mDataFrame constructor not properly called!\u001b[39m\u001b[38;5;124m\"\u001b[39m)\n\u001b[1;32m    758\u001b[0m     \u001b[38;5;66;03m# Argument 1 to \"ensure_index\" has incompatible type \"Collection[Any]\";\u001b[39;00m\n\u001b[1;32m    759\u001b[0m     \u001b[38;5;66;03m# expected \"Union[Union[Union[ExtensionArray, ndarray],\u001b[39;00m\n\u001b[1;32m    760\u001b[0m     \u001b[38;5;66;03m# Index, Series], Sequence[Any]]\"\u001b[39;00m\n\u001b[1;32m    761\u001b[0m     index \u001b[38;5;241m=\u001b[39m ensure_index(index)  \u001b[38;5;66;03m# type: ignore[arg-type]\u001b[39;00m\n",
      "\u001b[0;31mValueError\u001b[0m: DataFrame constructor not properly called!"
     ]
    }
   ],
   "source": [
    "# 랜덤으로 하나를 뽑습니다\n",
    "# random.randint()를 사용해 봅니다. randint(x,y)는  x<= ? <= y 범위에서 정수를 뽑습니다\n",
    "\n",
    "random_csv_name = csv_list[random.randint(0,len(csv_list)-1)]\n",
    "\n",
    "#랜덤으로 뽑은 csv파일을 읽어 DataFrame으로 변환해 봅니다\n",
    "df = pd.read_csv(random_csv_name)"
   ]
  },
  {
   "cell_type": "code",
   "execution_count": null,
   "id": "01abf34a",
   "metadata": {},
   "outputs": [],
   "source": []
  }
 ],
 "metadata": {
  "kernelspec": {
   "display_name": "Python 3 (ipykernel)",
   "language": "python",
   "name": "python3"
  },
  "language_info": {
   "codemirror_mode": {
    "name": "ipython",
    "version": 3
   },
   "file_extension": ".py",
   "mimetype": "text/x-python",
   "name": "python",
   "nbconvert_exporter": "python",
   "pygments_lexer": "ipython3",
   "version": "3.9.12"
  }
 },
 "nbformat": 4,
 "nbformat_minor": 5
}
