{
 "cells": [
  {
   "cell_type": "code",
   "execution_count": 1,
   "id": "fad2e530",
   "metadata": {},
   "outputs": [],
   "source": [
    "import pandas as pd\n",
    "import os"
   ]
  },
  {
   "cell_type": "code",
   "execution_count": 2,
   "id": "f05aed8a",
   "metadata": {},
   "outputs": [],
   "source": [
    "dict_data = {\n",
    "    'c0' : [1,2,3,4,5],\n",
    "    'c1' : [6,7,8,9,10]\n",
    "}"
   ]
  },
  {
   "cell_type": "markdown",
   "id": "1099c538",
   "metadata": {},
   "source": [
    "### pandas DataFrame [Documentation](https://pandas.pydata.org/docs/getting_started/intro_tutorials/01_table_oriented.html)\n",
    "\n",
    "- When using a Python Dictionary of lists, the dictionary key will be used as column headers and the values in each list as columns of the DataFrame\n",
    "\n",
    "- A DataFrame is 2 dimensional data structure that can store data of differenct type in columns. It is similar to a spreadsheetm SQL table, data.frame in R"
   ]
  },
  {
   "cell_type": "code",
   "execution_count": 3,
   "id": "e985f7ff",
   "metadata": {},
   "outputs": [],
   "source": [
    "df1 = pd.DataFrame(dict_data)"
   ]
  },
  {
   "cell_type": "code",
   "execution_count": 4,
   "id": "b37d0e51",
   "metadata": {},
   "outputs": [
    {
     "name": "stdout",
     "output_type": "stream",
     "text": [
      "<class 'pandas.core.frame.DataFrame'>\n"
     ]
    }
   ],
   "source": [
    "print(type(df1))"
   ]
  },
  {
   "cell_type": "code",
   "execution_count": 5,
   "id": "1b65f7dd",
   "metadata": {},
   "outputs": [
    {
     "name": "stdout",
     "output_type": "stream",
     "text": [
      "   c0  c1\n",
      "0   1   6\n",
      "1   2   7\n",
      "2   3   8\n",
      "3   4   9\n",
      "4   5  10\n"
     ]
    }
   ],
   "source": [
    "print(df1)"
   ]
  },
  {
   "cell_type": "markdown",
   "id": "7fd8e0f0",
   "metadata": {},
   "source": [
    "### 행 이름을 지정해 봅시다"
   ]
  },
  {
   "cell_type": "code",
   "execution_count": 6,
   "id": "41451794",
   "metadata": {},
   "outputs": [],
   "source": [
    "df2 = pd.DataFrame(dict_data,index = ['r0','r1','r2','r3','r4'])"
   ]
  },
  {
   "cell_type": "code",
   "execution_count": 7,
   "id": "217ef8a7",
   "metadata": {},
   "outputs": [
    {
     "name": "stdout",
     "output_type": "stream",
     "text": [
      "    c0  c1\n",
      "r0   1   6\n",
      "r1   2   7\n",
      "r2   3   8\n",
      "r3   4   9\n",
      "r4   5  10\n"
     ]
    }
   ],
   "source": [
    "print(df2)"
   ]
  },
  {
   "cell_type": "markdown",
   "id": "721cb761",
   "metadata": {},
   "source": [
    "### Each columns in a DataFrame is a 'Series'"
   ]
  },
  {
   "cell_type": "code",
   "execution_count": 8,
   "id": "f24303d2",
   "metadata": {},
   "outputs": [
    {
     "data": {
      "text/plain": [
       "r0    1\n",
       "r1    2\n",
       "r2    3\n",
       "r3    4\n",
       "r4    5\n",
       "Name: c0, dtype: int64"
      ]
     },
     "execution_count": 8,
     "metadata": {},
     "output_type": "execute_result"
    }
   ],
   "source": [
    "df2['c0']"
   ]
  },
  {
   "cell_type": "code",
   "execution_count": 9,
   "id": "5505f817",
   "metadata": {},
   "outputs": [
    {
     "data": {
      "text/plain": [
       "pandas.core.series.Series"
      ]
     },
     "execution_count": 9,
     "metadata": {},
     "output_type": "execute_result"
    }
   ],
   "source": [
    "type(df2['c0'])"
   ]
  },
  {
   "cell_type": "code",
   "execution_count": 10,
   "id": "c784afc4",
   "metadata": {},
   "outputs": [],
   "source": [
    "age = pd.Series([20,21,22,23,24], name = \"Age\")"
   ]
  },
  {
   "cell_type": "code",
   "execution_count": 11,
   "id": "3463ee06",
   "metadata": {},
   "outputs": [
    {
     "data": {
      "text/plain": [
       "0    20\n",
       "1    21\n",
       "2    22\n",
       "3    23\n",
       "4    24\n",
       "Name: Age, dtype: int64"
      ]
     },
     "execution_count": 11,
     "metadata": {},
     "output_type": "execute_result"
    }
   ],
   "source": [
    "age"
   ]
  },
  {
   "cell_type": "code",
   "execution_count": 12,
   "id": "03e879fa",
   "metadata": {},
   "outputs": [
    {
     "data": {
      "text/plain": [
       "pandas.core.series.Series"
      ]
     },
     "execution_count": 12,
     "metadata": {},
     "output_type": "execute_result"
    }
   ],
   "source": [
    "type(age)"
   ]
  },
  {
   "cell_type": "markdown",
   "id": "3f4a1674",
   "metadata": {},
   "source": [
    "### List of List를 데이터프레임으로 변환"
   ]
  },
  {
   "cell_type": "code",
   "execution_count": 13,
   "id": "d0c03427",
   "metadata": {},
   "outputs": [],
   "source": [
    "list_of_list = [\n",
    "    [1,2,3,4,5],\n",
    "    [6,7,8,9,10]\n",
    "]"
   ]
  },
  {
   "cell_type": "code",
   "execution_count": 14,
   "id": "8a17b2de",
   "metadata": {},
   "outputs": [],
   "source": [
    "df3 = pd.DataFrame(list_of_list)"
   ]
  },
  {
   "cell_type": "code",
   "execution_count": 15,
   "id": "68fbe948",
   "metadata": {},
   "outputs": [
    {
     "data": {
      "text/html": [
       "<div>\n",
       "<style scoped>\n",
       "    .dataframe tbody tr th:only-of-type {\n",
       "        vertical-align: middle;\n",
       "    }\n",
       "\n",
       "    .dataframe tbody tr th {\n",
       "        vertical-align: top;\n",
       "    }\n",
       "\n",
       "    .dataframe thead th {\n",
       "        text-align: right;\n",
       "    }\n",
       "</style>\n",
       "<table border=\"1\" class=\"dataframe\">\n",
       "  <thead>\n",
       "    <tr style=\"text-align: right;\">\n",
       "      <th></th>\n",
       "      <th>0</th>\n",
       "      <th>1</th>\n",
       "      <th>2</th>\n",
       "      <th>3</th>\n",
       "      <th>4</th>\n",
       "    </tr>\n",
       "  </thead>\n",
       "  <tbody>\n",
       "    <tr>\n",
       "      <th>0</th>\n",
       "      <td>1</td>\n",
       "      <td>2</td>\n",
       "      <td>3</td>\n",
       "      <td>4</td>\n",
       "      <td>5</td>\n",
       "    </tr>\n",
       "    <tr>\n",
       "      <th>1</th>\n",
       "      <td>6</td>\n",
       "      <td>7</td>\n",
       "      <td>8</td>\n",
       "      <td>9</td>\n",
       "      <td>10</td>\n",
       "    </tr>\n",
       "  </tbody>\n",
       "</table>\n",
       "</div>"
      ],
      "text/plain": [
       "   0  1  2  3   4\n",
       "0  1  2  3  4   5\n",
       "1  6  7  8  9  10"
      ]
     },
     "execution_count": 15,
     "metadata": {},
     "output_type": "execute_result"
    }
   ],
   "source": [
    "df3"
   ]
  },
  {
   "cell_type": "markdown",
   "id": "718daaf1",
   "metadata": {},
   "source": [
    "DataFrame.shap : 데이터프레임의 형태를 확인할 수 있다. (행, 열) 형태로 나온다"
   ]
  },
  {
   "cell_type": "code",
   "execution_count": 16,
   "id": "3f308c10",
   "metadata": {},
   "outputs": [
    {
     "data": {
      "text/plain": [
       "(5, 2)"
      ]
     },
     "execution_count": 16,
     "metadata": {},
     "output_type": "execute_result"
    }
   ],
   "source": [
    "df1.shape"
   ]
  },
  {
   "cell_type": "code",
   "execution_count": 17,
   "id": "99e4dec6",
   "metadata": {},
   "outputs": [
    {
     "data": {
      "text/plain": [
       "(5, 2)"
      ]
     },
     "execution_count": 17,
     "metadata": {},
     "output_type": "execute_result"
    }
   ],
   "source": [
    "df2.shape"
   ]
  },
  {
   "cell_type": "code",
   "execution_count": 18,
   "id": "18c674bb",
   "metadata": {},
   "outputs": [
    {
     "data": {
      "text/plain": [
       "(2, 5)"
      ]
     },
     "execution_count": 18,
     "metadata": {},
     "output_type": "execute_result"
    }
   ],
   "source": [
    "df3.shape"
   ]
  },
  {
   "cell_type": "markdown",
   "id": "3a5b3a55",
   "metadata": {},
   "source": [
    "### CSV 읽어오기\n",
    "\n",
    "csv를 읽어오기 위해서는 pandas의 .read_csv()를 사용해주면 됩니다.\n",
    "\n",
    "앞에서 생성/다운로드한 엑셀 파일/csv파일을 활용합니다"
   ]
  },
  {
   "cell_type": "code",
   "execution_count": 19,
   "id": "01beba56",
   "metadata": {},
   "outputs": [],
   "source": [
    "file_directory_csv = f\"{os.getcwd()}/GDP디플레이터.csv\"\n",
    "file_directory_xls = f\"{os.getcwd()}/report_Key100Stat.xls\""
   ]
  },
  {
   "cell_type": "code",
   "execution_count": 20,
   "id": "501f594b",
   "metadata": {},
   "outputs": [
    {
     "data": {
      "text/plain": [
       "'/Users/hoplin/100_PythonProblem_for_working_level_staff/GDP디플레이터.csv'"
      ]
     },
     "execution_count": 20,
     "metadata": {},
     "output_type": "execute_result"
    }
   ],
   "source": [
    "file_directory_csv"
   ]
  },
  {
   "cell_type": "code",
   "execution_count": 21,
   "id": "5b876b56",
   "metadata": {},
   "outputs": [],
   "source": [
    "csv_1 = pd.read_csv(file_directory_csv)"
   ]
  },
  {
   "cell_type": "code",
   "execution_count": 22,
   "id": "751549e8",
   "metadata": {},
   "outputs": [
    {
     "data": {
      "text/html": [
       "<div>\n",
       "<style scoped>\n",
       "    .dataframe tbody tr th:only-of-type {\n",
       "        vertical-align: middle;\n",
       "    }\n",
       "\n",
       "    .dataframe tbody tr th {\n",
       "        vertical-align: top;\n",
       "    }\n",
       "\n",
       "    .dataframe thead th {\n",
       "        text-align: right;\n",
       "    }\n",
       "</style>\n",
       "<table border=\"1\" class=\"dataframe\">\n",
       "  <thead>\n",
       "    <tr style=\"text-align: right;\">\n",
       "      <th></th>\n",
       "      <th>시점</th>\n",
       "      <th>지표</th>\n",
       "      <th>전년동기대비증감률</th>\n",
       "    </tr>\n",
       "  </thead>\n",
       "  <tbody>\n",
       "    <tr>\n",
       "      <th>0</th>\n",
       "      <td>2014</td>\n",
       "      <td>96.913</td>\n",
       "      <td>0.9</td>\n",
       "    </tr>\n",
       "    <tr>\n",
       "      <th>1</th>\n",
       "      <td>2015</td>\n",
       "      <td>100.000</td>\n",
       "      <td>3.2</td>\n",
       "    </tr>\n",
       "    <tr>\n",
       "      <th>2</th>\n",
       "      <td>2016</td>\n",
       "      <td>101.986</td>\n",
       "      <td>2.0</td>\n",
       "    </tr>\n",
       "    <tr>\n",
       "      <th>3</th>\n",
       "      <td>2017</td>\n",
       "      <td>104.253</td>\n",
       "      <td>2.2</td>\n",
       "    </tr>\n",
       "    <tr>\n",
       "      <th>4</th>\n",
       "      <td>2018</td>\n",
       "      <td>104.756</td>\n",
       "      <td>0.5</td>\n",
       "    </tr>\n",
       "    <tr>\n",
       "      <th>5</th>\n",
       "      <td>2019</td>\n",
       "      <td>103.877</td>\n",
       "      <td>-0.8</td>\n",
       "    </tr>\n",
       "    <tr>\n",
       "      <th>6</th>\n",
       "      <td>2020</td>\n",
       "      <td>105.241</td>\n",
       "      <td>1.3</td>\n",
       "    </tr>\n",
       "    <tr>\n",
       "      <th>7</th>\n",
       "      <td>2018.3/4</td>\n",
       "      <td>106.922</td>\n",
       "      <td>0.2</td>\n",
       "    </tr>\n",
       "    <tr>\n",
       "      <th>8</th>\n",
       "      <td>2018.4/4</td>\n",
       "      <td>102.779</td>\n",
       "      <td>0.0</td>\n",
       "    </tr>\n",
       "    <tr>\n",
       "      <th>9</th>\n",
       "      <td>2019.1/4</td>\n",
       "      <td>104.186</td>\n",
       "      <td>-0.5</td>\n",
       "    </tr>\n",
       "    <tr>\n",
       "      <th>10</th>\n",
       "      <td>2019.2/4</td>\n",
       "      <td>104.090</td>\n",
       "      <td>-0.6</td>\n",
       "    </tr>\n",
       "    <tr>\n",
       "      <th>11</th>\n",
       "      <td>2019.3/4</td>\n",
       "      <td>105.338</td>\n",
       "      <td>-1.5</td>\n",
       "    </tr>\n",
       "    <tr>\n",
       "      <th>12</th>\n",
       "      <td>2019.4/4</td>\n",
       "      <td>102.015</td>\n",
       "      <td>-0.7</td>\n",
       "    </tr>\n",
       "    <tr>\n",
       "      <th>13</th>\n",
       "      <td>2020.1/4</td>\n",
       "      <td>103.552</td>\n",
       "      <td>-0.6</td>\n",
       "    </tr>\n",
       "    <tr>\n",
       "      <th>14</th>\n",
       "      <td>2020.2/4</td>\n",
       "      <td>105.412</td>\n",
       "      <td>1.3</td>\n",
       "    </tr>\n",
       "    <tr>\n",
       "      <th>15</th>\n",
       "      <td>2020.3/4</td>\n",
       "      <td>107.449</td>\n",
       "      <td>2.0</td>\n",
       "    </tr>\n",
       "    <tr>\n",
       "      <th>16</th>\n",
       "      <td>2020.4/4</td>\n",
       "      <td>104.535</td>\n",
       "      <td>2.5</td>\n",
       "    </tr>\n",
       "    <tr>\n",
       "      <th>17</th>\n",
       "      <td>2021.1/4</td>\n",
       "      <td>106.213</td>\n",
       "      <td>2.6</td>\n",
       "    </tr>\n",
       "    <tr>\n",
       "      <th>18</th>\n",
       "      <td>2021.2/4</td>\n",
       "      <td>107.083</td>\n",
       "      <td>1.6</td>\n",
       "    </tr>\n",
       "    <tr>\n",
       "      <th>19</th>\n",
       "      <td>2021.3/4</td>\n",
       "      <td>109.932</td>\n",
       "      <td>2.3</td>\n",
       "    </tr>\n",
       "  </tbody>\n",
       "</table>\n",
       "</div>"
      ],
      "text/plain": [
       "          시점       지표  전년동기대비증감률\n",
       "0       2014   96.913        0.9\n",
       "1       2015  100.000        3.2\n",
       "2       2016  101.986        2.0\n",
       "3       2017  104.253        2.2\n",
       "4       2018  104.756        0.5\n",
       "5       2019  103.877       -0.8\n",
       "6       2020  105.241        1.3\n",
       "7   2018.3/4  106.922        0.2\n",
       "8   2018.4/4  102.779        0.0\n",
       "9   2019.1/4  104.186       -0.5\n",
       "10  2019.2/4  104.090       -0.6\n",
       "11  2019.3/4  105.338       -1.5\n",
       "12  2019.4/4  102.015       -0.7\n",
       "13  2020.1/4  103.552       -0.6\n",
       "14  2020.2/4  105.412        1.3\n",
       "15  2020.3/4  107.449        2.0\n",
       "16  2020.4/4  104.535        2.5\n",
       "17  2021.1/4  106.213        2.6\n",
       "18  2021.2/4  107.083        1.6\n",
       "19  2021.3/4  109.932        2.3"
      ]
     },
     "execution_count": 22,
     "metadata": {},
     "output_type": "execute_result"
    }
   ],
   "source": [
    "csv_1"
   ]
  },
  {
   "cell_type": "code",
   "execution_count": 23,
   "id": "2a5c2541",
   "metadata": {},
   "outputs": [
    {
     "data": {
      "text/plain": [
       "(20, 3)"
      ]
     },
     "execution_count": 23,
     "metadata": {},
     "output_type": "execute_result"
    }
   ],
   "source": [
    "csv_1.shape"
   ]
  },
  {
   "cell_type": "markdown",
   "id": "ecf01a08",
   "metadata": {},
   "source": [
    "#### read_csv()의 header 옵션\n",
    "\n",
    "header = None : 판다스는 주로 첫번째 행을 header로 불러 온다. 하지만 불러올 header가 없는경우에는 header = None을 입력해주어야한다."
   ]
  },
  {
   "cell_type": "code",
   "execution_count": 24,
   "id": "c8855cd4",
   "metadata": {},
   "outputs": [],
   "source": [
    "'''\n",
    "에러 : 'utf-8' codec can't decode byte 0xdd in position 10: invalid continuation byte\n",
    "이 에러는 csv파일의 인코딩 방식과 파이썬 인코딩 방식이 일치하지 않을 경우에 발생하는 오류이다.\n",
    "'''\n",
    "csv_2 = pd.read_csv(file_directory_csv,header=None)"
   ]
  },
  {
   "cell_type": "code",
   "execution_count": 25,
   "id": "d2d8b8e3",
   "metadata": {},
   "outputs": [
    {
     "data": {
      "text/html": [
       "<div>\n",
       "<style scoped>\n",
       "    .dataframe tbody tr th:only-of-type {\n",
       "        vertical-align: middle;\n",
       "    }\n",
       "\n",
       "    .dataframe tbody tr th {\n",
       "        vertical-align: top;\n",
       "    }\n",
       "\n",
       "    .dataframe thead th {\n",
       "        text-align: right;\n",
       "    }\n",
       "</style>\n",
       "<table border=\"1\" class=\"dataframe\">\n",
       "  <thead>\n",
       "    <tr style=\"text-align: right;\">\n",
       "      <th></th>\n",
       "      <th>0</th>\n",
       "      <th>1</th>\n",
       "      <th>2</th>\n",
       "    </tr>\n",
       "  </thead>\n",
       "  <tbody>\n",
       "    <tr>\n",
       "      <th>0</th>\n",
       "      <td>시점</td>\n",
       "      <td>지표</td>\n",
       "      <td>전년동기대비증감률</td>\n",
       "    </tr>\n",
       "    <tr>\n",
       "      <th>1</th>\n",
       "      <td>2014</td>\n",
       "      <td>96.913</td>\n",
       "      <td>0.9</td>\n",
       "    </tr>\n",
       "    <tr>\n",
       "      <th>2</th>\n",
       "      <td>2015</td>\n",
       "      <td>100.000</td>\n",
       "      <td>3.2</td>\n",
       "    </tr>\n",
       "    <tr>\n",
       "      <th>3</th>\n",
       "      <td>2016</td>\n",
       "      <td>101.986</td>\n",
       "      <td>2.0</td>\n",
       "    </tr>\n",
       "    <tr>\n",
       "      <th>4</th>\n",
       "      <td>2017</td>\n",
       "      <td>104.253</td>\n",
       "      <td>2.2</td>\n",
       "    </tr>\n",
       "    <tr>\n",
       "      <th>5</th>\n",
       "      <td>2018</td>\n",
       "      <td>104.756</td>\n",
       "      <td>0.5</td>\n",
       "    </tr>\n",
       "    <tr>\n",
       "      <th>6</th>\n",
       "      <td>2019</td>\n",
       "      <td>103.877</td>\n",
       "      <td>-0.8</td>\n",
       "    </tr>\n",
       "    <tr>\n",
       "      <th>7</th>\n",
       "      <td>2020</td>\n",
       "      <td>105.241</td>\n",
       "      <td>1.3</td>\n",
       "    </tr>\n",
       "    <tr>\n",
       "      <th>8</th>\n",
       "      <td>2018.3/4</td>\n",
       "      <td>106.922</td>\n",
       "      <td>0.2</td>\n",
       "    </tr>\n",
       "    <tr>\n",
       "      <th>9</th>\n",
       "      <td>2018.4/4</td>\n",
       "      <td>102.779</td>\n",
       "      <td>0.0</td>\n",
       "    </tr>\n",
       "    <tr>\n",
       "      <th>10</th>\n",
       "      <td>2019.1/4</td>\n",
       "      <td>104.186</td>\n",
       "      <td>-0.5</td>\n",
       "    </tr>\n",
       "    <tr>\n",
       "      <th>11</th>\n",
       "      <td>2019.2/4</td>\n",
       "      <td>104.090</td>\n",
       "      <td>-0.6</td>\n",
       "    </tr>\n",
       "    <tr>\n",
       "      <th>12</th>\n",
       "      <td>2019.3/4</td>\n",
       "      <td>105.338</td>\n",
       "      <td>-1.5</td>\n",
       "    </tr>\n",
       "    <tr>\n",
       "      <th>13</th>\n",
       "      <td>2019.4/4</td>\n",
       "      <td>102.015</td>\n",
       "      <td>-0.7</td>\n",
       "    </tr>\n",
       "    <tr>\n",
       "      <th>14</th>\n",
       "      <td>2020.1/4</td>\n",
       "      <td>103.552</td>\n",
       "      <td>-0.6</td>\n",
       "    </tr>\n",
       "    <tr>\n",
       "      <th>15</th>\n",
       "      <td>2020.2/4</td>\n",
       "      <td>105.412</td>\n",
       "      <td>1.3</td>\n",
       "    </tr>\n",
       "    <tr>\n",
       "      <th>16</th>\n",
       "      <td>2020.3/4</td>\n",
       "      <td>107.449</td>\n",
       "      <td>2.0</td>\n",
       "    </tr>\n",
       "    <tr>\n",
       "      <th>17</th>\n",
       "      <td>2020.4/4</td>\n",
       "      <td>104.535</td>\n",
       "      <td>2.5</td>\n",
       "    </tr>\n",
       "    <tr>\n",
       "      <th>18</th>\n",
       "      <td>2021.1/4</td>\n",
       "      <td>106.213</td>\n",
       "      <td>2.6</td>\n",
       "    </tr>\n",
       "    <tr>\n",
       "      <th>19</th>\n",
       "      <td>2021.2/4</td>\n",
       "      <td>107.083</td>\n",
       "      <td>1.6</td>\n",
       "    </tr>\n",
       "    <tr>\n",
       "      <th>20</th>\n",
       "      <td>2021.3/4</td>\n",
       "      <td>109.932</td>\n",
       "      <td>2.3</td>\n",
       "    </tr>\n",
       "  </tbody>\n",
       "</table>\n",
       "</div>"
      ],
      "text/plain": [
       "           0        1          2\n",
       "0         시점       지표  전년동기대비증감률\n",
       "1       2014   96.913        0.9\n",
       "2       2015  100.000        3.2\n",
       "3       2016  101.986        2.0\n",
       "4       2017  104.253        2.2\n",
       "5       2018  104.756        0.5\n",
       "6       2019  103.877       -0.8\n",
       "7       2020  105.241        1.3\n",
       "8   2018.3/4  106.922        0.2\n",
       "9   2018.4/4  102.779        0.0\n",
       "10  2019.1/4  104.186       -0.5\n",
       "11  2019.2/4  104.090       -0.6\n",
       "12  2019.3/4  105.338       -1.5\n",
       "13  2019.4/4  102.015       -0.7\n",
       "14  2020.1/4  103.552       -0.6\n",
       "15  2020.2/4  105.412        1.3\n",
       "16  2020.3/4  107.449        2.0\n",
       "17  2020.4/4  104.535        2.5\n",
       "18  2021.1/4  106.213        2.6\n",
       "19  2021.2/4  107.083        1.6\n",
       "20  2021.3/4  109.932        2.3"
      ]
     },
     "execution_count": 25,
     "metadata": {},
     "output_type": "execute_result"
    }
   ],
   "source": [
    "csv_2"
   ]
  },
  {
   "cell_type": "markdown",
   "id": "6545ec81",
   "metadata": {},
   "source": [
    "#### read_csv()의 index_col 옵션\n",
    "\n",
    "index_col옵션은 default값은 None이다. index_col옵션은 주어진 값을 인덱스(행값의 기준 의미)로 지정하여 읽어온다.\n",
    "\n",
    "index_col에는 '열 이름' 혹은 '열 index번호'가 들어갈 수 있다."
   ]
  },
  {
   "cell_type": "code",
   "execution_count": 26,
   "id": "93aba41c",
   "metadata": {},
   "outputs": [],
   "source": [
    "csv_3 = pd.read_csv(file_directory_csv,index_col=0)"
   ]
  },
  {
   "cell_type": "code",
   "execution_count": 27,
   "id": "4287feea",
   "metadata": {},
   "outputs": [
    {
     "data": {
      "text/html": [
       "<div>\n",
       "<style scoped>\n",
       "    .dataframe tbody tr th:only-of-type {\n",
       "        vertical-align: middle;\n",
       "    }\n",
       "\n",
       "    .dataframe tbody tr th {\n",
       "        vertical-align: top;\n",
       "    }\n",
       "\n",
       "    .dataframe thead th {\n",
       "        text-align: right;\n",
       "    }\n",
       "</style>\n",
       "<table border=\"1\" class=\"dataframe\">\n",
       "  <thead>\n",
       "    <tr style=\"text-align: right;\">\n",
       "      <th></th>\n",
       "      <th>지표</th>\n",
       "      <th>전년동기대비증감률</th>\n",
       "    </tr>\n",
       "    <tr>\n",
       "      <th>시점</th>\n",
       "      <th></th>\n",
       "      <th></th>\n",
       "    </tr>\n",
       "  </thead>\n",
       "  <tbody>\n",
       "    <tr>\n",
       "      <th>2014</th>\n",
       "      <td>96.913</td>\n",
       "      <td>0.9</td>\n",
       "    </tr>\n",
       "    <tr>\n",
       "      <th>2015</th>\n",
       "      <td>100.000</td>\n",
       "      <td>3.2</td>\n",
       "    </tr>\n",
       "    <tr>\n",
       "      <th>2016</th>\n",
       "      <td>101.986</td>\n",
       "      <td>2.0</td>\n",
       "    </tr>\n",
       "    <tr>\n",
       "      <th>2017</th>\n",
       "      <td>104.253</td>\n",
       "      <td>2.2</td>\n",
       "    </tr>\n",
       "    <tr>\n",
       "      <th>2018</th>\n",
       "      <td>104.756</td>\n",
       "      <td>0.5</td>\n",
       "    </tr>\n",
       "    <tr>\n",
       "      <th>2019</th>\n",
       "      <td>103.877</td>\n",
       "      <td>-0.8</td>\n",
       "    </tr>\n",
       "    <tr>\n",
       "      <th>2020</th>\n",
       "      <td>105.241</td>\n",
       "      <td>1.3</td>\n",
       "    </tr>\n",
       "    <tr>\n",
       "      <th>2018.3/4</th>\n",
       "      <td>106.922</td>\n",
       "      <td>0.2</td>\n",
       "    </tr>\n",
       "    <tr>\n",
       "      <th>2018.4/4</th>\n",
       "      <td>102.779</td>\n",
       "      <td>0.0</td>\n",
       "    </tr>\n",
       "    <tr>\n",
       "      <th>2019.1/4</th>\n",
       "      <td>104.186</td>\n",
       "      <td>-0.5</td>\n",
       "    </tr>\n",
       "    <tr>\n",
       "      <th>2019.2/4</th>\n",
       "      <td>104.090</td>\n",
       "      <td>-0.6</td>\n",
       "    </tr>\n",
       "    <tr>\n",
       "      <th>2019.3/4</th>\n",
       "      <td>105.338</td>\n",
       "      <td>-1.5</td>\n",
       "    </tr>\n",
       "    <tr>\n",
       "      <th>2019.4/4</th>\n",
       "      <td>102.015</td>\n",
       "      <td>-0.7</td>\n",
       "    </tr>\n",
       "    <tr>\n",
       "      <th>2020.1/4</th>\n",
       "      <td>103.552</td>\n",
       "      <td>-0.6</td>\n",
       "    </tr>\n",
       "    <tr>\n",
       "      <th>2020.2/4</th>\n",
       "      <td>105.412</td>\n",
       "      <td>1.3</td>\n",
       "    </tr>\n",
       "    <tr>\n",
       "      <th>2020.3/4</th>\n",
       "      <td>107.449</td>\n",
       "      <td>2.0</td>\n",
       "    </tr>\n",
       "    <tr>\n",
       "      <th>2020.4/4</th>\n",
       "      <td>104.535</td>\n",
       "      <td>2.5</td>\n",
       "    </tr>\n",
       "    <tr>\n",
       "      <th>2021.1/4</th>\n",
       "      <td>106.213</td>\n",
       "      <td>2.6</td>\n",
       "    </tr>\n",
       "    <tr>\n",
       "      <th>2021.2/4</th>\n",
       "      <td>107.083</td>\n",
       "      <td>1.6</td>\n",
       "    </tr>\n",
       "    <tr>\n",
       "      <th>2021.3/4</th>\n",
       "      <td>109.932</td>\n",
       "      <td>2.3</td>\n",
       "    </tr>\n",
       "  </tbody>\n",
       "</table>\n",
       "</div>"
      ],
      "text/plain": [
       "               지표  전년동기대비증감률\n",
       "시점                          \n",
       "2014       96.913        0.9\n",
       "2015      100.000        3.2\n",
       "2016      101.986        2.0\n",
       "2017      104.253        2.2\n",
       "2018      104.756        0.5\n",
       "2019      103.877       -0.8\n",
       "2020      105.241        1.3\n",
       "2018.3/4  106.922        0.2\n",
       "2018.4/4  102.779        0.0\n",
       "2019.1/4  104.186       -0.5\n",
       "2019.2/4  104.090       -0.6\n",
       "2019.3/4  105.338       -1.5\n",
       "2019.4/4  102.015       -0.7\n",
       "2020.1/4  103.552       -0.6\n",
       "2020.2/4  105.412        1.3\n",
       "2020.3/4  107.449        2.0\n",
       "2020.4/4  104.535        2.5\n",
       "2021.1/4  106.213        2.6\n",
       "2021.2/4  107.083        1.6\n",
       "2021.3/4  109.932        2.3"
      ]
     },
     "execution_count": 27,
     "metadata": {},
     "output_type": "execute_result"
    }
   ],
   "source": [
    "csv_3"
   ]
  },
  {
   "cell_type": "code",
   "execution_count": 28,
   "id": "7dca4531",
   "metadata": {},
   "outputs": [],
   "source": [
    "csv_4 = pd.read_csv(file_directory_csv,index_col=1)"
   ]
  },
  {
   "cell_type": "code",
   "execution_count": 29,
   "id": "5e302ad3",
   "metadata": {},
   "outputs": [
    {
     "data": {
      "text/html": [
       "<div>\n",
       "<style scoped>\n",
       "    .dataframe tbody tr th:only-of-type {\n",
       "        vertical-align: middle;\n",
       "    }\n",
       "\n",
       "    .dataframe tbody tr th {\n",
       "        vertical-align: top;\n",
       "    }\n",
       "\n",
       "    .dataframe thead th {\n",
       "        text-align: right;\n",
       "    }\n",
       "</style>\n",
       "<table border=\"1\" class=\"dataframe\">\n",
       "  <thead>\n",
       "    <tr style=\"text-align: right;\">\n",
       "      <th></th>\n",
       "      <th>시점</th>\n",
       "      <th>전년동기대비증감률</th>\n",
       "    </tr>\n",
       "    <tr>\n",
       "      <th>지표</th>\n",
       "      <th></th>\n",
       "      <th></th>\n",
       "    </tr>\n",
       "  </thead>\n",
       "  <tbody>\n",
       "    <tr>\n",
       "      <th>96.913</th>\n",
       "      <td>2014</td>\n",
       "      <td>0.9</td>\n",
       "    </tr>\n",
       "    <tr>\n",
       "      <th>100.000</th>\n",
       "      <td>2015</td>\n",
       "      <td>3.2</td>\n",
       "    </tr>\n",
       "    <tr>\n",
       "      <th>101.986</th>\n",
       "      <td>2016</td>\n",
       "      <td>2.0</td>\n",
       "    </tr>\n",
       "    <tr>\n",
       "      <th>104.253</th>\n",
       "      <td>2017</td>\n",
       "      <td>2.2</td>\n",
       "    </tr>\n",
       "    <tr>\n",
       "      <th>104.756</th>\n",
       "      <td>2018</td>\n",
       "      <td>0.5</td>\n",
       "    </tr>\n",
       "    <tr>\n",
       "      <th>103.877</th>\n",
       "      <td>2019</td>\n",
       "      <td>-0.8</td>\n",
       "    </tr>\n",
       "    <tr>\n",
       "      <th>105.241</th>\n",
       "      <td>2020</td>\n",
       "      <td>1.3</td>\n",
       "    </tr>\n",
       "    <tr>\n",
       "      <th>106.922</th>\n",
       "      <td>2018.3/4</td>\n",
       "      <td>0.2</td>\n",
       "    </tr>\n",
       "    <tr>\n",
       "      <th>102.779</th>\n",
       "      <td>2018.4/4</td>\n",
       "      <td>0.0</td>\n",
       "    </tr>\n",
       "    <tr>\n",
       "      <th>104.186</th>\n",
       "      <td>2019.1/4</td>\n",
       "      <td>-0.5</td>\n",
       "    </tr>\n",
       "    <tr>\n",
       "      <th>104.090</th>\n",
       "      <td>2019.2/4</td>\n",
       "      <td>-0.6</td>\n",
       "    </tr>\n",
       "    <tr>\n",
       "      <th>105.338</th>\n",
       "      <td>2019.3/4</td>\n",
       "      <td>-1.5</td>\n",
       "    </tr>\n",
       "    <tr>\n",
       "      <th>102.015</th>\n",
       "      <td>2019.4/4</td>\n",
       "      <td>-0.7</td>\n",
       "    </tr>\n",
       "    <tr>\n",
       "      <th>103.552</th>\n",
       "      <td>2020.1/4</td>\n",
       "      <td>-0.6</td>\n",
       "    </tr>\n",
       "    <tr>\n",
       "      <th>105.412</th>\n",
       "      <td>2020.2/4</td>\n",
       "      <td>1.3</td>\n",
       "    </tr>\n",
       "    <tr>\n",
       "      <th>107.449</th>\n",
       "      <td>2020.3/4</td>\n",
       "      <td>2.0</td>\n",
       "    </tr>\n",
       "    <tr>\n",
       "      <th>104.535</th>\n",
       "      <td>2020.4/4</td>\n",
       "      <td>2.5</td>\n",
       "    </tr>\n",
       "    <tr>\n",
       "      <th>106.213</th>\n",
       "      <td>2021.1/4</td>\n",
       "      <td>2.6</td>\n",
       "    </tr>\n",
       "    <tr>\n",
       "      <th>107.083</th>\n",
       "      <td>2021.2/4</td>\n",
       "      <td>1.6</td>\n",
       "    </tr>\n",
       "    <tr>\n",
       "      <th>109.932</th>\n",
       "      <td>2021.3/4</td>\n",
       "      <td>2.3</td>\n",
       "    </tr>\n",
       "  </tbody>\n",
       "</table>\n",
       "</div>"
      ],
      "text/plain": [
       "               시점  전년동기대비증감률\n",
       "지표                          \n",
       "96.913       2014        0.9\n",
       "100.000      2015        3.2\n",
       "101.986      2016        2.0\n",
       "104.253      2017        2.2\n",
       "104.756      2018        0.5\n",
       "103.877      2019       -0.8\n",
       "105.241      2020        1.3\n",
       "106.922  2018.3/4        0.2\n",
       "102.779  2018.4/4        0.0\n",
       "104.186  2019.1/4       -0.5\n",
       "104.090  2019.2/4       -0.6\n",
       "105.338  2019.3/4       -1.5\n",
       "102.015  2019.4/4       -0.7\n",
       "103.552  2020.1/4       -0.6\n",
       "105.412  2020.2/4        1.3\n",
       "107.449  2020.3/4        2.0\n",
       "104.535  2020.4/4        2.5\n",
       "106.213  2021.1/4        2.6\n",
       "107.083  2021.2/4        1.6\n",
       "109.932  2021.3/4        2.3"
      ]
     },
     "execution_count": 29,
     "metadata": {},
     "output_type": "execute_result"
    }
   ],
   "source": [
    "csv_4"
   ]
  },
  {
   "cell_type": "code",
   "execution_count": 30,
   "id": "4741dab6",
   "metadata": {},
   "outputs": [],
   "source": [
    "csv_5 = pd.read_csv(file_directory_csv,index_col=2)"
   ]
  },
  {
   "cell_type": "code",
   "execution_count": 31,
   "id": "4b58d2ed",
   "metadata": {},
   "outputs": [
    {
     "data": {
      "text/html": [
       "<div>\n",
       "<style scoped>\n",
       "    .dataframe tbody tr th:only-of-type {\n",
       "        vertical-align: middle;\n",
       "    }\n",
       "\n",
       "    .dataframe tbody tr th {\n",
       "        vertical-align: top;\n",
       "    }\n",
       "\n",
       "    .dataframe thead th {\n",
       "        text-align: right;\n",
       "    }\n",
       "</style>\n",
       "<table border=\"1\" class=\"dataframe\">\n",
       "  <thead>\n",
       "    <tr style=\"text-align: right;\">\n",
       "      <th></th>\n",
       "      <th>시점</th>\n",
       "      <th>지표</th>\n",
       "    </tr>\n",
       "    <tr>\n",
       "      <th>전년동기대비증감률</th>\n",
       "      <th></th>\n",
       "      <th></th>\n",
       "    </tr>\n",
       "  </thead>\n",
       "  <tbody>\n",
       "    <tr>\n",
       "      <th>0.9</th>\n",
       "      <td>2014</td>\n",
       "      <td>96.913</td>\n",
       "    </tr>\n",
       "    <tr>\n",
       "      <th>3.2</th>\n",
       "      <td>2015</td>\n",
       "      <td>100.000</td>\n",
       "    </tr>\n",
       "    <tr>\n",
       "      <th>2.0</th>\n",
       "      <td>2016</td>\n",
       "      <td>101.986</td>\n",
       "    </tr>\n",
       "    <tr>\n",
       "      <th>2.2</th>\n",
       "      <td>2017</td>\n",
       "      <td>104.253</td>\n",
       "    </tr>\n",
       "    <tr>\n",
       "      <th>0.5</th>\n",
       "      <td>2018</td>\n",
       "      <td>104.756</td>\n",
       "    </tr>\n",
       "    <tr>\n",
       "      <th>-0.8</th>\n",
       "      <td>2019</td>\n",
       "      <td>103.877</td>\n",
       "    </tr>\n",
       "    <tr>\n",
       "      <th>1.3</th>\n",
       "      <td>2020</td>\n",
       "      <td>105.241</td>\n",
       "    </tr>\n",
       "    <tr>\n",
       "      <th>0.2</th>\n",
       "      <td>2018.3/4</td>\n",
       "      <td>106.922</td>\n",
       "    </tr>\n",
       "    <tr>\n",
       "      <th>0.0</th>\n",
       "      <td>2018.4/4</td>\n",
       "      <td>102.779</td>\n",
       "    </tr>\n",
       "    <tr>\n",
       "      <th>-0.5</th>\n",
       "      <td>2019.1/4</td>\n",
       "      <td>104.186</td>\n",
       "    </tr>\n",
       "    <tr>\n",
       "      <th>-0.6</th>\n",
       "      <td>2019.2/4</td>\n",
       "      <td>104.090</td>\n",
       "    </tr>\n",
       "    <tr>\n",
       "      <th>-1.5</th>\n",
       "      <td>2019.3/4</td>\n",
       "      <td>105.338</td>\n",
       "    </tr>\n",
       "    <tr>\n",
       "      <th>-0.7</th>\n",
       "      <td>2019.4/4</td>\n",
       "      <td>102.015</td>\n",
       "    </tr>\n",
       "    <tr>\n",
       "      <th>-0.6</th>\n",
       "      <td>2020.1/4</td>\n",
       "      <td>103.552</td>\n",
       "    </tr>\n",
       "    <tr>\n",
       "      <th>1.3</th>\n",
       "      <td>2020.2/4</td>\n",
       "      <td>105.412</td>\n",
       "    </tr>\n",
       "    <tr>\n",
       "      <th>2.0</th>\n",
       "      <td>2020.3/4</td>\n",
       "      <td>107.449</td>\n",
       "    </tr>\n",
       "    <tr>\n",
       "      <th>2.5</th>\n",
       "      <td>2020.4/4</td>\n",
       "      <td>104.535</td>\n",
       "    </tr>\n",
       "    <tr>\n",
       "      <th>2.6</th>\n",
       "      <td>2021.1/4</td>\n",
       "      <td>106.213</td>\n",
       "    </tr>\n",
       "    <tr>\n",
       "      <th>1.6</th>\n",
       "      <td>2021.2/4</td>\n",
       "      <td>107.083</td>\n",
       "    </tr>\n",
       "    <tr>\n",
       "      <th>2.3</th>\n",
       "      <td>2021.3/4</td>\n",
       "      <td>109.932</td>\n",
       "    </tr>\n",
       "  </tbody>\n",
       "</table>\n",
       "</div>"
      ],
      "text/plain": [
       "                 시점       지표\n",
       "전년동기대비증감률                   \n",
       " 0.9           2014   96.913\n",
       " 3.2           2015  100.000\n",
       " 2.0           2016  101.986\n",
       " 2.2           2017  104.253\n",
       " 0.5           2018  104.756\n",
       "-0.8           2019  103.877\n",
       " 1.3           2020  105.241\n",
       " 0.2       2018.3/4  106.922\n",
       " 0.0       2018.4/4  102.779\n",
       "-0.5       2019.1/4  104.186\n",
       "-0.6       2019.2/4  104.090\n",
       "-1.5       2019.3/4  105.338\n",
       "-0.7       2019.4/4  102.015\n",
       "-0.6       2020.1/4  103.552\n",
       " 1.3       2020.2/4  105.412\n",
       " 2.0       2020.3/4  107.449\n",
       " 2.5       2020.4/4  104.535\n",
       " 2.6       2021.1/4  106.213\n",
       " 1.6       2021.2/4  107.083\n",
       " 2.3       2021.3/4  109.932"
      ]
     },
     "execution_count": 31,
     "metadata": {},
     "output_type": "execute_result"
    }
   ],
   "source": [
    "csv_5"
   ]
  },
  {
   "cell_type": "markdown",
   "id": "63efe0e2",
   "metadata": {},
   "source": [
    "### Excel 읽어오기\n",
    "\n",
    "Excel을 읽어오기 위해서는 read_excel()을 사용해 주어야한다."
   ]
  },
  {
   "cell_type": "code",
   "execution_count": 32,
   "id": "7638b5f3",
   "metadata": {},
   "outputs": [],
   "source": [
    "xl_1 = pd.read_excel(file_directory_xls)"
   ]
  },
  {
   "cell_type": "code",
   "execution_count": 33,
   "id": "b10ece92",
   "metadata": {},
   "outputs": [
    {
     "data": {
      "text/html": [
       "<div>\n",
       "<style scoped>\n",
       "    .dataframe tbody tr th:only-of-type {\n",
       "        vertical-align: middle;\n",
       "    }\n",
       "\n",
       "    .dataframe tbody tr th {\n",
       "        vertical-align: top;\n",
       "    }\n",
       "\n",
       "    .dataframe thead th {\n",
       "        text-align: right;\n",
       "    }\n",
       "</style>\n",
       "<table border=\"1\" class=\"dataframe\">\n",
       "  <thead>\n",
       "    <tr style=\"text-align: right;\">\n",
       "      <th></th>\n",
       "      <th>통계구분</th>\n",
       "      <th>통계지표</th>\n",
       "      <th>시점</th>\n",
       "      <th>원자료</th>\n",
       "      <th>단위</th>\n",
       "    </tr>\n",
       "  </thead>\n",
       "  <tbody>\n",
       "    <tr>\n",
       "      <th>0</th>\n",
       "      <td>국민소득 ? 경기 ? 기업경영</td>\n",
       "      <td>경제성장률(실질, 계절조정 전기대비)</td>\n",
       "      <td>20213</td>\n",
       "      <td>0.3</td>\n",
       "      <td>%</td>\n",
       "    </tr>\n",
       "    <tr>\n",
       "      <th>1</th>\n",
       "      <td>국민소득 ? 경기 ? 기업경영</td>\n",
       "      <td>민간소비증감률(실질, 계절조정 전기대비)</td>\n",
       "      <td>20213</td>\n",
       "      <td>-0.2</td>\n",
       "      <td>%</td>\n",
       "    </tr>\n",
       "    <tr>\n",
       "      <th>2</th>\n",
       "      <td>국민소득 ? 경기 ? 기업경영</td>\n",
       "      <td>설비투자증감률(실질, 계절조정 전기대비)</td>\n",
       "      <td>20213</td>\n",
       "      <td>-2.4</td>\n",
       "      <td>%</td>\n",
       "    </tr>\n",
       "    <tr>\n",
       "      <th>3</th>\n",
       "      <td>국민소득 ? 경기 ? 기업경영</td>\n",
       "      <td>건설투자증감률(실질, 계절조정 전기대비)</td>\n",
       "      <td>20213</td>\n",
       "      <td>-3.5</td>\n",
       "      <td>%</td>\n",
       "    </tr>\n",
       "    <tr>\n",
       "      <th>4</th>\n",
       "      <td>국민소득 ? 경기 ? 기업경영</td>\n",
       "      <td>GDP(명목, 계절조정)</td>\n",
       "      <td>20213</td>\n",
       "      <td>518,021.3</td>\n",
       "      <td>십억원</td>\n",
       "    </tr>\n",
       "    <tr>\n",
       "      <th>...</th>\n",
       "      <td>...</td>\n",
       "      <td>...</td>\n",
       "      <td>...</td>\n",
       "      <td>...</td>\n",
       "      <td>...</td>\n",
       "    </tr>\n",
       "    <tr>\n",
       "      <th>95</th>\n",
       "      <td>경제관련 사회통계</td>\n",
       "      <td>고령인구비율(65세 이상)</td>\n",
       "      <td>2022</td>\n",
       "      <td>17.5</td>\n",
       "      <td>%</td>\n",
       "    </tr>\n",
       "    <tr>\n",
       "      <th>96</th>\n",
       "      <td>경제관련 사회통계</td>\n",
       "      <td>합계출산율</td>\n",
       "      <td>2020</td>\n",
       "      <td>0.837</td>\n",
       "      <td>명</td>\n",
       "    </tr>\n",
       "    <tr>\n",
       "      <th>97</th>\n",
       "      <td>경제관련 사회통계</td>\n",
       "      <td>자동차등록대수</td>\n",
       "      <td>202105</td>\n",
       "      <td>24,587,343</td>\n",
       "      <td>대</td>\n",
       "    </tr>\n",
       "    <tr>\n",
       "      <th>98</th>\n",
       "      <td>경제관련 사회통계</td>\n",
       "      <td>주택보급률</td>\n",
       "      <td>2019</td>\n",
       "      <td>104.8</td>\n",
       "      <td>%</td>\n",
       "    </tr>\n",
       "    <tr>\n",
       "      <th>99</th>\n",
       "      <td>경제관련 사회통계</td>\n",
       "      <td>지니계수</td>\n",
       "      <td>2019</td>\n",
       "      <td>0.339</td>\n",
       "      <td>NaN</td>\n",
       "    </tr>\n",
       "  </tbody>\n",
       "</table>\n",
       "<p>100 rows × 5 columns</p>\n",
       "</div>"
      ],
      "text/plain": [
       "                통계구분                    통계지표      시점         원자료    단위\n",
       "0   국민소득 ? 경기 ? 기업경영    경제성장률(실질, 계절조정 전기대비)   20213         0.3    % \n",
       "1   국민소득 ? 경기 ? 기업경영  민간소비증감률(실질, 계절조정 전기대비)   20213        -0.2    % \n",
       "2   국민소득 ? 경기 ? 기업경영  설비투자증감률(실질, 계절조정 전기대비)   20213        -2.4    % \n",
       "3   국민소득 ? 경기 ? 기업경영  건설투자증감률(실질, 계절조정 전기대비)   20213        -3.5    % \n",
       "4   국민소득 ? 경기 ? 기업경영           GDP(명목, 계절조정)   20213   518,021.3  십억원 \n",
       "..               ...                     ...     ...         ...   ...\n",
       "95         경제관련 사회통계          고령인구비율(65세 이상)    2022        17.5    % \n",
       "96         경제관련 사회통계                   합계출산율    2020       0.837    명 \n",
       "97         경제관련 사회통계                 자동차등록대수  202105  24,587,343    대 \n",
       "98         경제관련 사회통계                   주택보급률    2019       104.8    % \n",
       "99         경제관련 사회통계                    지니계수    2019       0.339   NaN\n",
       "\n",
       "[100 rows x 5 columns]"
      ]
     },
     "execution_count": 33,
     "metadata": {},
     "output_type": "execute_result"
    }
   ],
   "source": [
    "xl_1"
   ]
  }
 ],
 "metadata": {
  "kernelspec": {
   "display_name": "Python 3 (ipykernel)",
   "language": "python",
   "name": "python3"
  },
  "language_info": {
   "codemirror_mode": {
    "name": "ipython",
    "version": 3
   },
   "file_extension": ".py",
   "mimetype": "text/x-python",
   "name": "python",
   "nbconvert_exporter": "python",
   "pygments_lexer": "ipython3",
   "version": "3.9.7"
  }
 },
 "nbformat": 4,
 "nbformat_minor": 5
}
